{
 "cells": [
  {
   "cell_type": "markdown",
   "id": "fae8a82b-4baa-48a5-b7b0-cc0a77cd8419",
   "metadata": {},
   "source": [
    "#### Question-1\n",
    "\n",
    "Write a function `second_largest(numbers)` that takes a list of numbers and returns the second largest number in the list. Assume the list has at least two unique numbers.\n",
    "\n",
    "Example:\n",
    "```python\n",
    "numbers = [10, 5, 20, 8, 15]\n",
    "second = second_largest(numbers)\n",
    "print(second)\n",
    "# Expected output: 15\n",
    "```"
   ]
  },
  {
   "cell_type": "code",
   "execution_count": 5,
   "id": "c59cc6dd-bf81-4e61-9d19-e086c6ebc1cf",
   "metadata": {},
   "outputs": [
    {
     "name": "stdout",
     "output_type": "stream",
     "text": [
      "15\n"
     ]
    }
   ],
   "source": [
    "# Write your code here\n",
    "numbers = [10,5,20,8,15]\n",
    "second = sorted(numbers,reverse=True)[1]\n",
    "print(second)\n"
   ]
  },
  {
   "cell_type": "markdown",
   "id": "d36297be-09c5-4cda-8b52-281566a62f65",
   "metadata": {},
   "source": [
    "#### Question-2\n",
    "\n",
    "Write a function `count_vowels(text)` that takes a string as input and returns the number of vowels (a, e, i, o, u - case-insensitive) present in the string.\n",
    "\n",
    "Example:\n",
    "```python\n",
    "text = \"Hello World\"\n",
    "vowel_count = count_vowels(text)\n",
    "print(vowel_count)\n",
    "# Expected output: 3\n",
    "```\n"
   ]
  },
  {
   "cell_type": "code",
   "execution_count": 1,
   "id": "35ed7370-242a-49d2-a7d2-da9b0c0d2ca4",
   "metadata": {},
   "outputs": [
    {
     "name": "stdout",
     "output_type": "stream",
     "text": [
      "3\n"
     ]
    }
   ],
   "source": [
    "# Write your code here\n",
    "text = \"Hello World\"\n",
    "vowels=['a','e','i','o','u']\n",
    "vowel_count= len([x for x in text if x in vowels])\n",
    "print(vowel_count)\n"
   ]
  },
  {
   "cell_type": "markdown",
   "id": "1896a5da-319f-483a-835d-a08b0710a728",
   "metadata": {},
   "source": [
    "#### Question-3\n",
    "\n",
    "Write a Python program to print all the prime numbers between 1 and N (inclusive). Where N is a positive integer and an input from user.\n",
    "\n",
    "Example:\n",
    "\n",
    "```python\n",
    "N = 20\n",
    "# Expected output: 2,3,5,7,11,13,17,19\n",
    "\n",
    "```"
   ]
  },
  {
   "cell_type": "code",
   "execution_count": 7,
   "id": "f5d24378-8fc1-42da-8a41-b05794effe99",
   "metadata": {},
   "outputs": [
    {
     "name": "stdout",
     "output_type": "stream",
     "text": [
      "The prime numbers are : \n",
      "\n",
      "[2, 3, 5, 7, 11, 13, 17, 19, 23, 29, 31, 37, 41, 43, 47, 53, 59, 61, 67, 71, 73, 79, 83, 89, 97]\n"
     ]
    }
   ],
   "source": [
    "# Write your code here\n",
    "N=int(input(\"Enter the positive Number\"))\n",
    "prime_numbers=[]\n",
    "if N <= 0:\n",
    "    print(\"Please Enter The Valid Positive number\")\n",
    "else:\n",
    "    for x in range(1,N+1):\n",
    "        prime=[]\n",
    "        for y in range(1,N+1):\n",
    "            if x%y==0:\n",
    "                prime.append(x)\n",
    "        if len(prime)==2:\n",
    "            prime_numbers.append(x)\n",
    "print(\"The prime numbers are : \\n\")\n",
    "print(prime_numbers)\n",
    "                \n"
   ]
  },
  {
   "cell_type": "markdown",
   "id": "7e9eedf0-23e7-4eb0-94f3-2ca0c23d9bad",
   "metadata": {},
   "source": [
    "#### Question-4\n",
    "\n",
    "Write a function `merge_sorted_lists(list1, list2)` that takes two sorted lists of integers, `list1` and `list2` and merges them into a single sorted list efficiently. One way is to simple concatenate the lists and sort. But think of a better approach.\n",
    "\n",
    "Example:\n",
    "```python\n",
    "list1 = [1, 4, 5]\n",
    "list2 = [1, 3, 4]\n",
    "merged = merge_sorted_lists(list1, list2)\n",
    "print(merged)\n",
    "# Expected output: [1, 1, 3, 4, 4, 5]\n",
    "```"
   ]
  },
  {
   "cell_type": "code",
   "execution_count": 1,
   "id": "8659d4f3-1f44-461f-9f66-d1f8c1301505",
   "metadata": {},
   "outputs": [
    {
     "name": "stdout",
     "output_type": "stream",
     "text": [
      "[1, 1, 3, 4, 4, 5]\n"
     ]
    }
   ],
   "source": [
    "# Write your code here\n",
    "def merge_sorted_lists(list1,list2):\n",
    "    list1.extend(list2)\n",
    "    merged =sorted(list1)\n",
    "    print(merged)\n",
    "    \n",
    "merge_sorted_lists([1,4,5],[1,3,4])\n",
    "\n"
   ]
  },
  {
   "cell_type": "markdown",
   "id": "3c21c6f4-3fc7-476f-8ae3-ca81ca419973",
   "metadata": {},
   "source": [
    "#### Question-5\n",
    "\n",
    "Create a dictionary like: `student_grades = {\"Alice\": 85, \"Bob\": 92, \"Charlie\": 78}`. Write Python code to find and print the name of the student with the highest grade.\n",
    "\n",
    "Example:\n",
    "```python\n",
    "student_grades = {\"Alice\": 85, \"Bob\": 92, \"Charlie\": 78}\n",
    "# Expected output: Bob\n",
    "```"
   ]
  },
  {
   "cell_type": "code",
   "execution_count": 32,
   "id": "4189c02b-fbca-4ca5-abdc-eab31a5b0578",
   "metadata": {},
   "outputs": [
    {
     "name": "stdout",
     "output_type": "stream",
     "text": [
      "Bob\n"
     ]
    }
   ],
   "source": [
    "# Write your code here\n",
    "student_grades= {\"Alice\":85,\"Bob\":92,\"Charlie\":78}\n",
    "sorted_output=sorted(student_grades.items(),key=lambda l: l[1],reverse=True)\n",
    "print(sorted_output[0][0])\n"
   ]
  },
  {
   "cell_type": "markdown",
   "id": "a4799b88-d567-4b82-b640-941633d21138",
   "metadata": {},
   "source": [
    "#### Question-6\n",
    "\n",
    "Write a function `is_anagram(str1, str2)` that checks if two given strings are anagrams of each other (contain the same characters with the same frequencies, ignoring case).\n",
    "\n",
    "Example:\n",
    "```python\n",
    "print(is_anagram(\"listen\", \"silent\"))\n",
    "print(is_anagram(\"hello\", \"world\"))\n",
    "# Expected output:\n",
    "# True\n",
    "# False\n",
    "```"
   ]
  },
  {
   "cell_type": "code",
   "execution_count": 3,
   "id": "e1a3a07d-11f0-4907-9c90-5031400f5452",
   "metadata": {},
   "outputs": [
    {
     "data": {
      "text/plain": [
       "True"
      ]
     },
     "execution_count": 3,
     "metadata": {},
     "output_type": "execute_result"
    }
   ],
   "source": [
    "# Write your code here\n",
    "def is_anagram(str1,str2):\n",
    "    count=0\n",
    "    str1=str(str1).lower()\n",
    "    str2=str(str2).lower()\n",
    "    return sorted(str1)==sorted(str2)\n",
    "\n",
    "        \n",
    "is_anagram('listen','silent')\n",
    "    \n",
    "\n"
   ]
  },
  {
   "cell_type": "markdown",
   "id": "4ede0c1c-0af8-4cbb-b9af-9cb2a200ab9d",
   "metadata": {},
   "source": [
    "#### Question-7\n",
    "\n",
    "Write a function `rotate_list(lst, k)` that rotates a given list lst to the right by `k` positions in-place. Assume `k` is a non-negative integer and can be greater than the length of the list.\n",
    "\n",
    "Example:\n",
    "\n",
    "```python\n",
    "my_list = [1, 2, 3, 4, 5]\n",
    "rotate_list(my_list, 2)\n",
    "print(my_list)\n",
    "# Expected output: [4, 5, 1, 2, 3]\n",
    "```"
   ]
  },
  {
   "cell_type": "code",
   "execution_count": 71,
   "id": "5193d146-984f-46ba-ab95-9d6bfa18a711",
   "metadata": {},
   "outputs": [
    {
     "name": "stdout",
     "output_type": "stream",
     "text": [
      "[4, 5, 1, 2, 3]\n"
     ]
    }
   ],
   "source": [
    "# Write your code here\n",
    "\n",
    "def rotate_list(mylist,k):\n",
    "    for x in range(1,k+1):\n",
    "        mylist.insert(0,mylist[-1])\n",
    "        mylist.pop()\n",
    "    print(mylist)\n",
    "    \n",
    "rotate_list([1,2,3,4,5],2)"
   ]
  },
  {
   "cell_type": "markdown",
   "id": "c2bb2490-9374-47ff-b4c6-a27767108436",
   "metadata": {},
   "source": [
    "#### Question-8\n",
    "\n",
    "You have a list of dictionaries, where each dictionary represents a product with keys \"name\", \"price\", and \"category\". Write a function group_by_category(products) that takes this list and returns a dictionary where the keys are the unique categories and the values are lists of product names belonging to that category.\n",
    "\n",
    "Example:\n",
    "\n",
    "```python\n",
    "products = [\n",
    "    {\"name\": \"Laptop\", \"price\": 1200, \"category\": \"Electronics\"},\n",
    "    {\"name\": \"Book\", \"price\": 25, \"category\": \"Books\"},\n",
    "    {\"name\": \"Tablet\", \"price\": 300, \"category\": \"Electronics\"},\n",
    "    {\"name\": \"Fiction\", \"price\": 15, \"category\": \"Books\"},\n",
    "]\n",
    "grouped_products = group_by_category(products)\n",
    "print(grouped_products)\n",
    "# Expected output: {'Electronics': ['Laptop', 'Tablet'], 'Books': ['Book', 'Fiction']}\n",
    "\n",
    "```\n"
   ]
  },
  {
   "cell_type": "code",
   "execution_count": 134,
   "id": "3f8bb46b-304e-4d2a-93b2-b86e7be1eedb",
   "metadata": {},
   "outputs": [
    {
     "name": "stdout",
     "output_type": "stream",
     "text": [
      "{'Electronics': ['Laptop', 'Tablet'], 'Books': ['Book', 'Fiction']}\n"
     ]
    }
   ],
   "source": [
    "# Write your code here\n",
    "products = [\n",
    "    {\"name\": \"Laptop\", \"price\": 1200, \"category\": \"Electronics\"},\n",
    "    {\"name\": \"Book\", \"price\": 25, \"category\": \"Books\"},\n",
    "    {\"name\": \"Tablet\", \"price\": 300, \"category\": \"Electronics\"},\n",
    "    {\"name\": \"Fiction\", \"price\": 15, \"category\": \"Books\"},\n",
    "]\n",
    "\n",
    "grouped_products={}\n",
    "\n",
    "for item in products:\n",
    "    key= item[\"category\"]\n",
    "    value=item[\"name\"]\n",
    "    if key not in grouped_products:\n",
    "        grouped_products[key]=[]\n",
    "    grouped_products[key].append(value)\n",
    "print(grouped_products)"
   ]
  },
  {
   "cell_type": "markdown",
   "id": "af52c3db-7673-4776-9a9a-0112ea221827",
   "metadata": {},
   "source": [
    "#### Question-9\n",
    "\n",
    "Write a Python program that prints the first `n` rows of Pascal's triangle. `n` is a positive integer and an user input. To know about Pascal's triangle see the [wikipedia article](https://en.wikipedia.org/wiki/Pascal%27s_triangle): \n",
    "\n",
    "Example:\n",
    "\n",
    "```python\n",
    "n = 5\n",
    "# Expected output:\n",
    "#     1\n",
    "#    1 1\n",
    "#   1 2 1\n",
    "#  1 3 3 1\n",
    "# 1 4 6 4 1\n",
    "```"
   ]
  },
  {
   "cell_type": "code",
   "execution_count": 8,
   "id": "623b76ed",
   "metadata": {},
   "outputs": [
    {
     "name": "stdout",
     "output_type": "stream",
     "text": [
      "      1\n",
      "     1 1\n",
      "    1 2 1\n",
      "   1 3 3 1\n",
      "  1 4 6 4 1\n"
     ]
    }
   ],
   "source": [
    "n = 5\n",
    "\n",
    "for i in range(1, n+1):\n",
    "    for j in range(0, n-i+1):\n",
    "        print(' ', end='')\n",
    "    first_number = 1\n",
    "    for j in range(1, i+1):\n",
    "        print(' ', first_number, sep='', end='')\n",
    "        first_number = first_number * (i - j) // j\n",
    "    print()"
   ]
  },
  {
   "cell_type": "markdown",
   "id": "51492f62-3388-4956-b081-fa1193f6c9ae",
   "metadata": {},
   "source": [
    "#### Question-10\n",
    "\n",
    "Write a function `reverse_the_words(s)` which will take a string `s` as input and reverses the words in the string. \n",
    "\n",
    "Example:\n",
    "\n",
    "```python\n",
    "s = \"Python is awesome and challenging\"\n",
    "r = reverse_the_words(s)\n",
    "print(r)\n",
    "# Expected output: challenging and awesome is Python\n",
    "```"
   ]
  },
  {
   "cell_type": "code",
   "execution_count": 9,
   "id": "121c0320-c9b8-4e44-93ed-0996bcb265ef",
   "metadata": {},
   "outputs": [
    {
     "name": "stdout",
     "output_type": "stream",
     "text": [
      "challenging and awesome is Python\n"
     ]
    }
   ],
   "source": [
    "# Write your code here\n",
    "def reverse_the_words(s):\n",
    "    r=s.split(' ')\n",
    "    r.reverse()\n",
    "    re=','.join(r).replace(',',' ')\n",
    "    print(re)\n",
    "reverse_the_words(\"Python is awesome and challenging\")"
   ]
  },
  {
   "cell_type": "markdown",
   "id": "c8f38103-609a-43f1-869c-a08294ca9295",
   "metadata": {},
   "source": [
    "#### Bonus question\n",
    "\n",
    "Write a function `word_counter(s)` which will take a string `s` as input and returns a dictionary with count of words (case insensitive). Remove all the punctuations and special symbols present in the string.  \n",
    "\n",
    "Example:\n",
    "```python\n",
    "s = \"This city is a beautiful city. This is where I live\"\n",
    "d = word_counter(s)\n",
    "\n",
    "# Expected output (output can be in any order): {\"this\": 2, \"city\": 2, \"is\": 2, \"a\": 1, \"beautiful\": 1, \"where\": 1, \"i\": 1, \"live\": 1}\n",
    "```"
   ]
  },
  {
   "cell_type": "code",
   "execution_count": 68,
   "id": "65b4322f-bfd3-42f9-b92e-d10897742b71",
   "metadata": {},
   "outputs": [
    {
     "name": "stdout",
     "output_type": "stream",
     "text": [
      "{'city': 2, 'this': 2, 'is': 2, 'a': 1, 'i': 1, 'live': 1, 'where': 1, 'beautiful': 1}\n"
     ]
    }
   ],
   "source": [
    "# Write your code here\n",
    "def word_counter(stringinput):\n",
    "    allowedchar=' abcdefghijklmnopqrstuvwxyz1234567890'\n",
    "    Filtered_text=''\n",
    "    for char in stringinput.lower():\n",
    "        if char in allowedchar:\n",
    "            Filtered_text+=char\n",
    "\n",
    "    stringlist=Filtered_text.split()\n",
    "    dict_string={}\n",
    "    for x in (set(stringlist)):\n",
    "        dict_string[x]=stringlist.count(x)\n",
    "    \n",
    "    final_word_dict=dict(sorted(dict_string.items(),key=lambda item:item[1],reverse=True))\n",
    "    print(final_word_dict)\n",
    "\n",
    "word_counter(\"This city is a beautiful city. This is where I live\")"
   ]
  },
  {
   "cell_type": "code",
   "execution_count": null,
   "id": "0ac9693c",
   "metadata": {},
   "outputs": [],
   "source": []
  },
  {
   "cell_type": "code",
   "execution_count": null,
   "id": "c23e8565",
   "metadata": {},
   "outputs": [],
   "source": []
  }
 ],
 "metadata": {
  "kernelspec": {
   "display_name": "Python 3",
   "language": "python",
   "name": "python3"
  },
  "language_info": {
   "codemirror_mode": {
    "name": "ipython",
    "version": 3
   },
   "file_extension": ".py",
   "mimetype": "text/x-python",
   "name": "python",
   "nbconvert_exporter": "python",
   "pygments_lexer": "ipython3",
   "version": "3.12.10"
  }
 },
 "nbformat": 4,
 "nbformat_minor": 5
}
