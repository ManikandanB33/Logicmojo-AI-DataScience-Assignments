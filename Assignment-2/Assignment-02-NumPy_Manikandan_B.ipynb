{
 "cells": [
  {
   "cell_type": "code",
   "execution_count": 2,
   "id": "d3038cca",
   "metadata": {},
   "outputs": [],
   "source": [
    "import numpy as np\n",
    "import matplotlib.pyplot as plt"
   ]
  },
  {
   "cell_type": "markdown",
   "id": "f4613f42",
   "metadata": {},
   "source": [
    "## Problem: 1\n",
    "Create a uniform subdivision of the interval -1.3 to 2.5 with 64 subdivisions."
   ]
  },
  {
   "cell_type": "code",
   "execution_count": 2,
   "id": "d9608c50",
   "metadata": {},
   "outputs": [
    {
     "data": {
      "text/plain": [
       "array([-1.3       , -1.23968254, -1.17936508, -1.11904762, -1.05873016,\n",
       "       -0.9984127 , -0.93809524, -0.87777778, -0.81746032, -0.75714286,\n",
       "       -0.6968254 , -0.63650794, -0.57619048, -0.51587302, -0.45555556,\n",
       "       -0.3952381 , -0.33492063, -0.27460317, -0.21428571, -0.15396825,\n",
       "       -0.09365079, -0.03333333,  0.02698413,  0.08730159,  0.14761905,\n",
       "        0.20793651,  0.26825397,  0.32857143,  0.38888889,  0.44920635,\n",
       "        0.50952381,  0.56984127,  0.63015873,  0.69047619,  0.75079365,\n",
       "        0.81111111,  0.87142857,  0.93174603,  0.99206349,  1.05238095,\n",
       "        1.11269841,  1.17301587,  1.23333333,  1.29365079,  1.35396825,\n",
       "        1.41428571,  1.47460317,  1.53492063,  1.5952381 ,  1.65555556,\n",
       "        1.71587302,  1.77619048,  1.83650794,  1.8968254 ,  1.95714286,\n",
       "        2.01746032,  2.07777778,  2.13809524,  2.1984127 ,  2.25873016,\n",
       "        2.31904762,  2.37936508,  2.43968254,  2.5       ])"
      ]
     },
     "execution_count": 2,
     "metadata": {},
     "output_type": "execute_result"
    }
   ],
   "source": [
    "# Write your code here\n",
    "x=np.linspace(-1.3,2.5,64)\n",
    "x\n"
   ]
  },
  {
   "cell_type": "markdown",
   "id": "592a81a1",
   "metadata": {},
   "source": [
    "## Problem: 2\n",
    "\n",
    "Generate an array of length $3n$ , filled with the cyclic pattern 1, 2, 3. Where $n$ is a natural number."
   ]
  },
  {
   "cell_type": "code",
   "execution_count": 5,
   "id": "b0eff8c5",
   "metadata": {},
   "outputs": [
    {
     "data": {
      "text/plain": [
       "array([1, 2, 3, 1, 2, 3, 1, 2, 3])"
      ]
     },
     "execution_count": 5,
     "metadata": {},
     "output_type": "execute_result"
    }
   ],
   "source": [
    "# Write your code here\n",
    "n=int(input(\"Please enter the natural number\"))\n",
    "x=np.tile([1,2,3],n)\n",
    "x"
   ]
  },
  {
   "cell_type": "markdown",
   "id": "4d2d5ac4",
   "metadata": {},
   "source": [
    "## Problem: 3\n",
    "Create an array of the first $n$ odd integers. $n$ is a natural number input from user."
   ]
  },
  {
   "cell_type": "code",
   "execution_count": 7,
   "id": "d9ad08b8",
   "metadata": {},
   "outputs": [
    {
     "data": {
      "text/plain": [
       "array([ 1,  3,  5,  7,  9, 11, 13, 15])"
      ]
     },
     "execution_count": 7,
     "metadata": {},
     "output_type": "execute_result"
    }
   ],
   "source": [
    "# Write your code here\n",
    "n=int(input(\"Please enter the natural number\"))\n",
    "x=np.linspace(1,2*n-1,n,dtype=int)\n",
    "x\n"
   ]
  },
  {
   "cell_type": "markdown",
   "id": "b4db8108",
   "metadata": {},
   "source": [
    "## Problem: 4\n",
    "\n",
    "Create a 10 x 10 arrays of zeros and then \"frame\" it with a border of ones."
   ]
  },
  {
   "cell_type": "code",
   "execution_count": 29,
   "id": "43ebcbe6",
   "metadata": {},
   "outputs": [
    {
     "data": {
      "text/plain": [
       "array([[1, 1, 1, 1, 1, 1, 1, 1, 1, 1],\n",
       "       [1, 0, 0, 0, 0, 0, 0, 0, 0, 1],\n",
       "       [1, 0, 0, 0, 0, 0, 0, 0, 0, 1],\n",
       "       [1, 0, 0, 0, 0, 0, 0, 0, 0, 1],\n",
       "       [1, 0, 0, 0, 0, 0, 0, 0, 0, 1],\n",
       "       [1, 0, 0, 0, 0, 0, 0, 0, 0, 1],\n",
       "       [1, 0, 0, 0, 0, 0, 0, 0, 0, 1],\n",
       "       [1, 0, 0, 0, 0, 0, 0, 0, 0, 1],\n",
       "       [1, 0, 0, 0, 0, 0, 0, 0, 0, 1],\n",
       "       [1, 1, 1, 1, 1, 1, 1, 1, 1, 1]])"
      ]
     },
     "execution_count": 29,
     "metadata": {},
     "output_type": "execute_result"
    }
   ],
   "source": [
    "# Write your code here\n",
    "x=np.zeros((10,10),dtype=int)\n",
    "y=np.ones((10,1),dtype=int)\n",
    "x[0]=np.ones((1,10),dtype=int)\n",
    "x[:, 0]=np.ones((1,10),dtype=int)\n",
    "x[:, -1]=np.ones((1,10),dtype=int)\n",
    "x[-1]=np.ones((1,10),dtype=int)\n",
    "x\n"
   ]
  },
  {
   "cell_type": "markdown",
   "id": "b7dfc64f",
   "metadata": {},
   "source": [
    "## Problem: 5\n",
    "\n",
    "Create an 8 x 8 array with a checkerboard pattern of zeros and ones."
   ]
  },
  {
   "cell_type": "code",
   "execution_count": 33,
   "id": "a2533a49",
   "metadata": {},
   "outputs": [
    {
     "data": {
      "text/plain": [
       "array([[0, 1, 0, 1, 0, 1, 0, 1],\n",
       "       [1, 0, 1, 0, 1, 0, 1, 0],\n",
       "       [0, 1, 0, 1, 0, 1, 0, 1],\n",
       "       [1, 0, 1, 0, 1, 0, 1, 0],\n",
       "       [0, 1, 0, 1, 0, 1, 0, 1],\n",
       "       [1, 0, 1, 0, 1, 0, 1, 0],\n",
       "       [0, 1, 0, 1, 0, 1, 0, 1],\n",
       "       [1, 0, 1, 0, 1, 0, 1, 0]])"
      ]
     },
     "execution_count": 33,
     "metadata": {},
     "output_type": "execute_result"
    }
   ],
   "source": [
    "# Write your code here\n",
    "\n",
    "x=np.zeros((8,8),dtype=int)\n",
    "x[1::2,0::2]=np.ones((1,4),dtype=int)\n",
    "x[0::2,1::2]=np.ones((1,4),dtype=int)\n",
    "x"
   ]
  },
  {
   "cell_type": "markdown",
   "id": "16836fba",
   "metadata": {},
   "source": [
    "## Problem: 6\n",
    "\n",
    "Create an array $x$ with 100 points in the interval $[-1,1]$ (the points must be uniformly spaced). Then create another array $y$. \n",
    "\n",
    "Where $y = x^2 sin(x^2) + x$. \n",
    "\n",
    "Try to plot $y$ vs $x$ using matplotlib."
   ]
  },
  {
   "cell_type": "code",
   "execution_count": 41,
   "id": "60163795",
   "metadata": {},
   "outputs": [
    {
     "data": {
      "image/png": "[encoded data removed]",
      "text/plain": [
       "<Figure size 1000x500 with 1 Axes>"
      ]
     },
     "metadata": {},
     "output_type": "display_data"
    }
   ],
   "source": [
    "# Write your code here\n",
    "x=np.linspace(-1,1,100)\n",
    "y=x**2*np.sin(x**2)+x\n",
    "plt.figure(figsize = (10,5))\n",
    "plt.plot(x,y,'b')\n",
    "plt.grid()\n",
    "plt.xlabel('X')\n",
    "plt.ylabel('Y')\n",
    "plt.title('X vs Y')\n",
    "plt.show()\n",
    "\n"
   ]
  },
  {
   "cell_type": "markdown",
   "id": "38ce56fe",
   "metadata": {},
   "source": [
    "## Problem: 7 \n",
    "Create a function which creates an $n×n$ array with $(i , j)$ -entry equal to $i+ j$"
   ]
  },
  {
   "cell_type": "code",
   "execution_count": 45,
   "id": "9f8df5fc",
   "metadata": {},
   "outputs": [
    {
     "data": {
      "text/plain": [
       "array([[0, 1, 2, 3, 4],\n",
       "       [1, 2, 3, 4, 5],\n",
       "       [2, 3, 4, 5, 6],\n",
       "       [3, 4, 5, 6, 7],\n",
       "       [4, 5, 6, 7, 8]])"
      ]
     },
     "execution_count": 45,
     "metadata": {},
     "output_type": "execute_result"
    }
   ],
   "source": [
    "# Write your code here\n",
    "i,j=np.indices((5,5))\n",
    "x=i+j\n",
    "x\n"
   ]
  },
  {
   "cell_type": "markdown",
   "id": "c7ef619d",
   "metadata": {},
   "source": [
    "# Problem: 8\n",
    "Evaluate $cos$ and $sin$ on the interval $[0,1]$  with 1000 points and then stack the results into a tall array with rows being the $(cos(x),sin(x))$ entries."
   ]
  },
  {
   "cell_type": "code",
   "execution_count": 53,
   "id": "268d11c0",
   "metadata": {},
   "outputs": [
    {
     "data": {
      "text/plain": [
       "array([[1.        , 0.        ],\n",
       "       [0.9999995 , 0.001001  ],\n",
       "       [0.999998  , 0.002002  ],\n",
       "       ...,\n",
       "       [0.54198585, 0.84038761],\n",
       "       [0.54114435, 0.84092972],\n",
       "       [0.54030231, 0.84147098]], shape=(1000, 2))"
      ]
     },
     "execution_count": 53,
     "metadata": {},
     "output_type": "execute_result"
    }
   ],
   "source": [
    "# Write your code here\n",
    "x=np.linspace(0,1,1000)\n",
    "sin_value=np.sin(x)\n",
    "cos_value=np.cos(x)\n",
    "y=np.stack((cos_value,sin_value),axis=1)\n",
    "y"
   ]
  },
  {
   "cell_type": "markdown",
   "id": "388a60e9",
   "metadata": {},
   "source": [
    "# Problem: 9\n",
    "\n",
    "Create a random $3×5$ array using the `np.random.rand(3 ,5)` function and compute: the sum of all the entries, the sum of the rows, and the sum of the columns."
   ]
  },
  {
   "cell_type": "code",
   "execution_count": 59,
   "id": "6dfa35a5",
   "metadata": {},
   "outputs": [
    {
     "name": "stdout",
     "output_type": "stream",
     "text": [
      "The total sum are  8.259769410858008\n",
      "The total column sum are  [1.74444978 2.04429739 1.34226675 1.93966842 1.18908707]\n",
      "The total row sum are  [2.66922015 2.88567444 2.70487483]\n"
     ]
    }
   ],
   "source": [
    "# Write your code here\n",
    "\n",
    "x=np.random.rand(3,5)\n",
    "total_sum=np.sum(x)\n",
    "column_sum=np.sum(x,axis=0)\n",
    "row_sum=np.sum(x,axis=1)\n",
    "print(\"The total sum are \",total_sum)\n",
    "print(\"The total column sum are \",column_sum)\n",
    "print(\"The total row sum are \",row_sum)"
   ]
  },
  {
   "cell_type": "markdown",
   "id": "b0eabd51",
   "metadata": {},
   "source": [
    "## Problem: 10\n",
    "\n",
    "Create a random $5×5$ array using the function `np.random.rand(5, 5)`. Then sort the rows according to the second column."
   ]
  },
  {
   "cell_type": "code",
   "execution_count": 4,
   "id": "e689c2af",
   "metadata": {},
   "outputs": [
    {
     "data": {
      "text/plain": [
       "array([[0.34663724, 0.06433476, 0.09011261, 0.61068675, 0.14428846],\n",
       "       [0.23156716, 0.07343579, 0.93176704, 0.66261519, 0.40726601],\n",
       "       [0.99797683, 0.35236478, 0.63140598, 0.90016915, 0.54629705],\n",
       "       [0.95369422, 0.7605539 , 0.16890988, 0.49906606, 0.49552478],\n",
       "       [0.49400021, 0.82565109, 0.76047679, 0.56475464, 0.1739465 ]])"
      ]
     },
     "execution_count": 4,
     "metadata": {},
     "output_type": "execute_result"
    }
   ],
   "source": [
    "# Write your code here\n",
    "x=np.random.rand(5,5)\n",
    "y=x[x[:, 1].argsort()]\n",
    "y\n"
   ]
  },
  {
   "cell_type": "code",
   "execution_count": null,
   "id": "45eca552",
   "metadata": {},
   "outputs": [],
   "source": []
  },
  {
   "cell_type": "code",
   "execution_count": null,
   "id": "302bed5f",
   "metadata": {},
   "outputs": [],
   "source": []
  }
 ],
 "metadata": {
  "kernelspec": {
   "display_name": "Python 3",
   "language": "python",
   "name": "python3"
  },
  "language_info": {
   "codemirror_mode": {
    "name": "ipython",
    "version": 3
   },
   "file_extension": ".py",
   "mimetype": "text/x-python",
   "name": "python",
   "nbconvert_exporter": "python",
   "pygments_lexer": "ipython3",
   "version": "3.12.10"
  }
 },
 "nbformat": 4,
 "nbformat_minor": 5
}
