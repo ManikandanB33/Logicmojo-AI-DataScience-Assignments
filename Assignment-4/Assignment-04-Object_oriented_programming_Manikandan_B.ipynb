{
 "cells": [
  {
   "cell_type": "markdown",
   "id": "2535e4db",
   "metadata": {},
   "source": [
    "# Assignment-4\n",
    "\n",
    "This notebook contains the coding questions to test the proficiency in `Object Oriented Programming` in python.\n",
    "\n",
    "### Date: 16th May, 2025\n",
    "\n",
    "### Steps to solve and upload the assignment \n",
    "\n",
    "- Download the notebook in your local machine.\n",
    "- Solve the questions in the notebook and save it.\n",
    "- Rename the file as `Assignment-04-<your_name>_<your_surname>.ipynb`. For example if your name is Dipika Chopra then name the file as `Assignment-04-Dipika_Chopra.ipynb`.\n",
    "- Upload the solved notebook in the google drive location: https://drive.google.com/drive/folders/14z3q91F8xzPb8Hm-KxNGn-nkKacqB17v?usp=drive_link\n",
    "<h3><span style=\"color:red\"> Deadline: 31st May, 2025 </span></h3>"
   ]
  },
  {
   "cell_type": "markdown",
   "id": "a9701d5d",
   "metadata": {},
   "source": [
    "## Problem-1\n",
    "\n",
    "Design a system for a library. Include classes for `Book`, `Patron`, and `Library`.\n",
    "\n",
    "- The `Book` class should have attributes for title, author, ISBN, and a method `is_available()` that returns `True` if the book is not currently checked out and `False` otherwise. It should also have a method `check_out()` that marks the book as checked out and a method `check_in()` that marks it as available.\n",
    "- The `Patron` class should have attributes for name and patron ID and a method `borrow_book(book)` that associates a book with the patron.\n",
    "- The `Library` class should have a collection of `Book` objects and `Patron` objects. It should have methods to `add_book(book)`, `add_patron(patron)`, `lend_book(book, patron)`, and `return_book(book)`. The `lend_book` method should only allow a book to be lent if it's available and the patron exists in the library.\n",
    "\n",
    "\n",
    "Test your implementation."
   ]
  },
  {
   "cell_type": "code",
   "execution_count": 21,
   "id": "e4409090",
   "metadata": {},
   "outputs": [],
   "source": [
    "class Book:\n",
    "    def __init__(self, title, author, isbn):\n",
    "        self.title = title\n",
    "        self.author = author\n",
    "        self.isbn = isbn\n",
    "        self.checked_out = False\n",
    "\n",
    "    def is_available(self):\n",
    "        return not self.checked_out\n",
    "\n",
    "    def check_out(self):\n",
    "        if self.is_available():\n",
    "            self.checked_out = True\n",
    "            return True\n",
    "        return False\n",
    "\n",
    "    def check_in(self):\n",
    "        self.checked_out = False\n",
    "\n",
    "\n",
    "class Patron:\n",
    "    def __init__(self, name, patron_id):\n",
    "        self.name = name\n",
    "        self.patron_id = patron_id\n",
    "        self.borrowed_books = []\n",
    "\n",
    "    def borrow_book(self, book):\n",
    "        if book.is_available():\n",
    "            self.borrowed_books.append(book)\n",
    "            book.check_out()\n",
    "            return True\n",
    "        return False\n",
    "\n",
    "\n",
    "class Library:\n",
    "    def __init__(self):\n",
    "        self.books = {}\n",
    "        self.patrons = {}\n",
    "\n",
    "    def add_book(self, book):\n",
    "        self.books[book.isbn] = book\n",
    "\n",
    "    def add_patron(self, patron):\n",
    "        self.patrons[patron.patron_id] = patron\n",
    "\n",
    "    def lend_book(self, isbn, patron_id):\n",
    "        if isbn not in self.books:\n",
    "            print(\"Book not found in library.\")\n",
    "            return False\n",
    "        if patron_id not in self.patrons:\n",
    "            print(\"Patron not found.\")\n",
    "            return False\n",
    "\n",
    "        book = self.books[isbn]\n",
    "        patron = self.patrons[patron_id]\n",
    "\n",
    "        if book.is_available():\n",
    "            patron.borrow_book(book)\n",
    "            print(f\"{book.title} lent to {patron.name}.\")\n",
    "            return True\n",
    "        else:\n",
    "            print(f\"{book.title} is not available.\")\n",
    "            return False\n",
    "\n",
    "    def return_book(self, isbn):\n",
    "        if isbn in self.books:\n",
    "            book = self.books[isbn]\n",
    "            book.check_in()\n",
    "            for patron in self.patrons.values():\n",
    "                if book in patron.borrowed_books:\n",
    "                    patron.borrowed_books.remove(book)\n",
    "                    print(f\"{book.title} returned.\")\n",
    "                    return True\n",
    "        print(\"Book not found or not checked out.\")\n",
    "        return False"
   ]
  },
  {
   "cell_type": "code",
   "execution_count": 25,
   "id": "d4092d97",
   "metadata": {},
   "outputs": [],
   "source": [
    "book1 = Book(\"IronMan\", \"stanlee\", \"9999999\")\n",
    "book2 = Book(\"Captain America\", \"stanlee\", \"4567893\")\n",
    "patron1 = Patron(\"Mani\", \"1234\")\n",
    "patron2 = Patron(\"Lavan\", \"4321\")"
   ]
  },
  {
   "cell_type": "code",
   "execution_count": 28,
   "id": "16fe34e1",
   "metadata": {},
   "outputs": [],
   "source": [
    "library = Library()\n",
    "library.add_book(book1)\n",
    "library.add_book(book2)\n",
    "library.add_patron(patron1)\n",
    "library.add_patron(patron2)"
   ]
  },
  {
   "cell_type": "code",
   "execution_count": 31,
   "id": "943955fc",
   "metadata": {},
   "outputs": [
    {
     "name": "stdout",
     "output_type": "stream",
     "text": [
      "IronMan is not available.\n",
      "Captain America is not available.\n",
      "IronMan returned.\n",
      "IronMan lent to Lavan.\n"
     ]
    },
    {
     "data": {
      "text/plain": [
       "True"
      ]
     },
     "execution_count": 31,
     "metadata": {},
     "output_type": "execute_result"
    }
   ],
   "source": [
    "library.lend_book(\"9999999\", \"1234\") \n",
    "library.lend_book(\"4567893\", \"4321\")\n",
    "library.return_book(\"9999999\")\n",
    "library.lend_book(\"9999999\", \"4321\")"
   ]
  },
  {
   "cell_type": "markdown",
   "id": "f84ceae2",
   "metadata": {},
   "source": [
    "## Problem-2\n",
    "\n",
    "Create an base class `Shape` with an method `area()` and another method `perimeter()`. Then, create classes `Rectangle` and `Circle` that inherit from `Shape` and implement the `area()` method. The `perimeter()` method in `Shape` should raise a `NotImplementedError`. Implement the `perimeter()` method in `Rectangle` and `Circle`.\n",
    "\n",
    "Test your implementation."
   ]
  },
  {
   "cell_type": "code",
   "execution_count": 44,
   "id": "2a90ed8b",
   "metadata": {},
   "outputs": [],
   "source": [
    "import math\n",
    "\n",
    "class Shape:\n",
    "    def area(self):\n",
    "        raise NotImplementedError(\"Subclasses must implement this method.\")\n",
    "\n",
    "    def perimeter(self):\n",
    "        raise NotImplementedError(\"Subclasses must implement this method.\")\n",
    "\n",
    "\n",
    "class Rectangle(Shape):\n",
    "    def __init__(self, width, height):\n",
    "        self.width = width\n",
    "        self.height = height\n",
    "\n",
    "    def area(self):\n",
    "        return self.width * self.height\n",
    "\n",
    "    def perimeter(self):\n",
    "        return 2 * (self.width + self.height)\n",
    "\n",
    "\n",
    "class Circle(Shape):\n",
    "    def __init__(self, radius):\n",
    "        self.radius = radius\n",
    "\n",
    "    def area(self):\n",
    "        return math.pi * self.radius ** 2\n",
    "\n",
    "    def perimeter(self):\n",
    "        return 2 * math.pi * self.radius"
   ]
  },
  {
   "cell_type": "code",
   "execution_count": 45,
   "id": "c222a045",
   "metadata": {},
   "outputs": [
    {
     "data": {
      "text/plain": [
       "14"
      ]
     },
     "execution_count": 45,
     "metadata": {},
     "output_type": "execute_result"
    }
   ],
   "source": [
    "rectangle=Rectangle(3,4)\n",
    "rectangle.perimeter()"
   ]
  },
  {
   "cell_type": "markdown",
   "id": "1d1687b0",
   "metadata": {},
   "source": [
    "## Problem-3\n",
    "\n",
    "Design a system to model different types of employees in a company. There should be a base `Employee` class with attributes for `name` and `employee_id`. Create two subclasses: `SalariedEmployee` with an attribute for `monthly_salary` and a method `calculate_paycheck()` that returns the monthly salary, and `HourlyEmployee` with attributes for `hourly_rate` and `hours_worked`, and a `calculate_paycheck()` method that returns the total pay for the week. Demonstrate creating instances of both employee types and calling their `calculate_paycheck()` methods.\n",
    "\n",
    "Test your implementation."
   ]
  },
  {
   "cell_type": "code",
   "execution_count": 46,
   "id": "00ad7a49",
   "metadata": {},
   "outputs": [],
   "source": [
    "class Employee:\n",
    "    def __init__(self,empname,empid):\n",
    "        self.empname=empname\n",
    "        self.empid=empid\n",
    "        \n",
    "    def calculate_paycheck(self):\n",
    "        raise NotImplementedError(\"Subclasses must implement this method.\")\n",
    "    \n",
    "class SalariedEmployee(Employee):\n",
    "    def __init__(self,empname,empid,monthlysalary):\n",
    "        super().__init__(empname,empid)\n",
    "        self.monthlysalary=monthlysalary\n",
    "        \n",
    "    def calculate_paycheck(self):\n",
    "        return self.monthlysalary\n",
    "    \n",
    "class HourlyEmployee(Employee):\n",
    "    def __init__(self,empname,empid,hourly_rate,hourly_worked):\n",
    "        super().__init__(empname,empid)\n",
    "        self.hourly_rate=hourly_rate\n",
    "        self.hourly_worked=hourly_worked\n",
    "        \n",
    "    def calculate_paycheck(self):\n",
    "        return self.hourly_rate*self.hourly_worked"
   ]
  },
  {
   "cell_type": "code",
   "execution_count": 49,
   "id": "b361aa69",
   "metadata": {},
   "outputs": [
    {
     "data": {
      "text/plain": [
       "12000"
      ]
     },
     "execution_count": 49,
     "metadata": {},
     "output_type": "execute_result"
    }
   ],
   "source": [
    "salaried=SalariedEmployee(\"Mani\",\"1234\",\"1000INR\")\n",
    "salaried.calculate_paycheck()\n",
    "hourlyemp=HourlyEmployee(\"Lavan\",\"3445\",1500,8)\n",
    "hourlyemp.calculate_paycheck()"
   ]
  },
  {
   "cell_type": "markdown",
   "id": "694b2ead",
   "metadata": {},
   "source": [
    "## Problem-4\n",
    "\n",
    "Design a class `polynomial` of one variable which will have attributes `degree`, a positive integer and `coefficients`, a list of floating point numbers. \n",
    "`degree` means the highest power of the variable and `coefficients` are the coefficient of individual terms.\n",
    "\n",
    "A polynomial of degree `n` has `n+1` coefficients. \n",
    "\n",
    "- Example-1:\n",
    "$$ 3x^4 + 5x^3 + x^2 + 9x + 10 $$\n",
    "This is a polynomial of degree 4 and coefficients are [3, 5, 1, 9, 10].\n",
    "\n",
    "- Example-2: (some coefficients could be zero)\n",
    "$$ 0.7x^3 + 2.5x $$\n",
    "Here the degree of polynomial is 3 and coefficients are [0.7, 0, 2.5, 0].\n",
    "\n",
    "A polynomial of degree zero is just a constant value. \n",
    "\n",
    "In the `polynomial` class, you need to implement the following methods:\n",
    "- `evaluate(x)` which will evaluate the polynomial for a given value of the variable x.\n",
    "- `plot([x1, x2])` this will plot the polynomial for a given range of x1 to x2 of the variable.\n",
    "- `derivative(x)` This will evaluate the derivative (differentiation) of the polynomial for a given value of the variable x.\n",
    "- `plot_derivative([x1, x2])` this will plot the derivative of the polynomial for a given range of x1 to x2 of the variable.\n",
    "\n",
    "The class should have basic checks, such that the number of coefficients provided by the user should be degree + 1 and the degree should be a positive integer. \n",
    "\n",
    "Test your implementation. "
   ]
  },
  {
   "cell_type": "code",
   "execution_count": null,
   "id": "3eeb9436",
   "metadata": {},
   "outputs": [],
   "source": [
    "import matplotlib.pyplot as plt\n",
    "import numpy as np\n",
    "\n",
    "class Polynomial:\n",
    "    def __init__(self, degree, coefficients):\n",
    "        if not isinstance(degree, int) or degree < 0:\n",
    "            raise ValueError(\"Degree must be a non-negative integer.\")\n",
    "        if len(coefficients) != degree + 1:\n",
    "            raise ValueError(\"Number of coefficients must be degree + 1.\")\n",
    "        if not all(isinstance(c, (int, float)) for c in coefficients):\n",
    "            raise ValueError(\"All coefficients must be numbers.\")\n",
    "\n",
    "        self.degree = degree\n",
    "        self.coefficients = coefficients\n",
    "\n",
    "    def evaluate(self, x):\n",
    "        return sum(coef * (x ** (self.degree - i)) for i, coef in enumerate(self.coefficients))\n",
    "\n",
    "    def plot(self, x_range):\n",
    "        x_vals = np.linspace(x_range[0], x_range[1], 400)\n",
    "        y_vals = [self.evaluate(x) for x in x_vals]\n",
    "        plt.plot(x_vals, y_vals, label=\"Polynomial\")\n",
    "        plt.title(\"Polynomial Plot\")\n",
    "        plt.xlabel(\"x\")\n",
    "        plt.ylabel(\"f(x)\")\n",
    "        plt.grid(True)\n",
    "        plt.legend()\n",
    "        plt.show()\n",
    "\n",
    "    def derivative(self, x):\n",
    "        deriv = 0\n",
    "        for i in range(self.degree):\n",
    "            power = self.degree - i\n",
    "            coef = self.coefficients[i]\n",
    "            deriv += coef * power * (x ** (power - 1))\n",
    "        return deriv\n",
    "\n",
    "    def plot_derivative(self, x_range):\n",
    "        x_vals = np.linspace(x_range[0], x_range[1], 400)\n",
    "        y_vals = [self.derivative(x) for x in x_vals]\n",
    "        plt.plot(x_vals, y_vals, label=\"Derivative\")\n",
    "        plt.title(\"Derivative of Polynomial\")\n",
    "        plt.xlabel(\"x\")\n",
    "        plt.ylabel(\"f'(x)\")\n",
    "        plt.grid(True)\n",
    "        plt.legend()\n",
    "        plt.show()"
   ]
  },
  {
   "cell_type": "code",
   "execution_count": 27,
   "id": "1b0521ef",
   "metadata": {},
   "outputs": [
    {
     "name": "stdout",
     "output_type": "stream",
     "text": [
      "120\n"
     ]
    },
    {
     "data": {
      "image/png": "[encoded data removed]",
      "text/plain": [
       "<Figure size 640x480 with 1 Axes>"
      ]
     },
     "metadata": {},
     "output_type": "display_data"
    },
    {
     "data": {
      "image/png": "[encoded data removed]",
      "text/plain": [
       "<Figure size 640x480 with 1 Axes>"
      ]
     },
     "metadata": {},
     "output_type": "display_data"
    }
   ],
   "source": [
    "pol= Polynomial(4, [3, 5, 1, 9, 10])\n",
    "print(pol.evaluate(2))\n",
    "pol.plot([-10,10])\n",
    "pol.plot_derivative([-10,10])"
   ]
  },
  {
   "cell_type": "markdown",
   "id": "641b4303",
   "metadata": {},
   "source": [
    "## Problem-5\n",
    "\n",
    "Design a system to model a simple online shopping cart. Create a class `Product` with attributes for `name` and `price`. Then, create a `ShoppingCart` class that has a list to store `Product` objects. Implement methods to `add_item(product)`, `remove_item(product_name)`, and `calculate_total()`."
   ]
  },
  {
   "cell_type": "markdown",
   "id": "abdb3af5",
   "metadata": {},
   "source": []
  },
  {
   "cell_type": "code",
   "execution_count": 29,
   "id": "9e82bcd5",
   "metadata": {},
   "outputs": [],
   "source": [
    "class Product:\n",
    "    def __init__(self, name, price):\n",
    "        if not isinstance(name, str) or not name:\n",
    "            raise ValueError(\"Product name must be a non-empty string.\")\n",
    "        if not isinstance(price, (int, float)) or price < 0:\n",
    "            raise ValueError(\"Product price must be a non-negative number.\")\n",
    "        \n",
    "        self.name = name\n",
    "        self.price = price\n",
    "\n",
    "    def __repr__(self):\n",
    "        return f\"{self.name} (${self.price})\"\n",
    "\n",
    "\n",
    "class ShoppingCart:\n",
    "    def __init__(self):\n",
    "        self.items = []\n",
    "\n",
    "    def add_item(self, product):\n",
    "        if not isinstance(product, Product):\n",
    "            raise TypeError(\"Only Product instances can be added.\")\n",
    "        self.items.append(product)\n",
    "        print(f\"Added: {product.name}\")\n",
    "\n",
    "    def remove_item(self, product_name):\n",
    "        for i, product in enumerate(self.items):\n",
    "            if product.name == product_name:\n",
    "                removed = self.items.pop(i)\n",
    "                print(f\"Removed: {removed.name}\")\n",
    "                return\n",
    "        print(f\"Product '{product_name}' not found in the cart.\")\n",
    "\n",
    "    def calculate_total(self):\n",
    "        return sum(product.price for product in self.items)\n",
    "\n",
    "    def show_cart(self):\n",
    "        if not self.items:\n",
    "            print(\"Shopping cart is empty.\")\n",
    "            return\n",
    "        print(\"Items in cart:\")\n",
    "        for item in self.items:\n",
    "            print(f\" - {item.name}: ${item.price}\")\n",
    "        print(f\"Total: ${self.calculate_total()}\")"
   ]
  },
  {
   "cell_type": "code",
   "execution_count": 30,
   "id": "064d4e12",
   "metadata": {},
   "outputs": [],
   "source": [
    "p1 = Product(\"iphone\", 56000)\n",
    "p2 = Product(\"charger\", 350)\n",
    "p3 = Product(\"back case\", 3400)"
   ]
  },
  {
   "cell_type": "code",
   "execution_count": 31,
   "id": "6005be01",
   "metadata": {},
   "outputs": [],
   "source": [
    "cart=ShoppingCart()"
   ]
  },
  {
   "cell_type": "code",
   "execution_count": 32,
   "id": "8db5014f",
   "metadata": {},
   "outputs": [
    {
     "name": "stdout",
     "output_type": "stream",
     "text": [
      "Added: iphone\n",
      "Added: charger\n",
      "Added: back case\n"
     ]
    }
   ],
   "source": [
    "cart.add_item(p1)\n",
    "cart.add_item(p2)\n",
    "cart.add_item(p3)"
   ]
  },
  {
   "cell_type": "code",
   "execution_count": 33,
   "id": "55512bed",
   "metadata": {},
   "outputs": [
    {
     "name": "stdout",
     "output_type": "stream",
     "text": [
      "Items in cart:\n",
      " - iphone: $56000\n",
      " - charger: $350\n",
      " - back case: $3400\n",
      "Total: $59750\n"
     ]
    }
   ],
   "source": [
    "cart.show_cart()"
   ]
  },
  {
   "cell_type": "code",
   "execution_count": 34,
   "id": "fba4fc93",
   "metadata": {},
   "outputs": [
    {
     "name": "stdout",
     "output_type": "stream",
     "text": [
      "59750\n"
     ]
    }
   ],
   "source": [
    "final_amount=cart.calculate_total()\n",
    "print(final_amount)"
   ]
  },
  {
   "cell_type": "code",
   "execution_count": null,
   "id": "78d55f3e",
   "metadata": {},
   "outputs": [],
   "source": []
  }
 ],
 "metadata": {
  "kernelspec": {
   "display_name": "Python 3",
   "language": "python",
   "name": "python3"
  },
  "language_info": {
   "codemirror_mode": {
    "name": "ipython",
    "version": 3
   },
   "file_extension": ".py",
   "mimetype": "text/x-python",
   "name": "python",
   "nbconvert_exporter": "python",
   "pygments_lexer": "ipython3",
   "version": "3.12.10"
  }
 },
 "nbformat": 4,
 "nbformat_minor": 5
}
